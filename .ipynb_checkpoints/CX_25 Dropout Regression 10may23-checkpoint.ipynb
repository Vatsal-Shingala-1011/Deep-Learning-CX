{
 "cells": [
  {
   "cell_type": "code",
   "execution_count": 1,
   "id": "fbb7fde0",
   "metadata": {},
   "outputs": [],
   "source": [
    "import tensorflow as tf\n",
    "import numpy as np\n",
    "import matplotlib.pyplot as plt\n",
    "from tensorflow.keras.models import Sequential\n",
    "from tensorflow.keras.layers import Dense,Dropout\n",
    "from tensorflow.keras.optimizers import Adam\n",
    "from sklearn.model_selection import train_test_split\n",
    "from sklearn.metrics import mean_squared_error"
   ]
  },
  {
   "cell_type": "markdown",
   "id": "66821e5b",
   "metadata": {},
   "source": [
    "# Generate Data"
   ]
  },
  {
   "cell_type": "code",
   "execution_count": 2,
   "id": "fe1d5dae",
   "metadata": {},
   "outputs": [],
   "source": [
    "X_train = np.linspace(-1, 1, 20)"
   ]
  },
  {
   "cell_type": "code",
   "execution_count": 3,
   "id": "e59b51d4",
   "metadata": {},
   "outputs": [],
   "source": [
    "y_train = np.array([-0.6561 , -0.3099 , -0.59035, -0.50855, -0.285  , \n",
    "                    -0.2443 , -0.02445,  0.00135, -0.2006 ,  0.07475, \n",
    "                    -0.1422 ,  0.06515,  0.15265,  0.3521 ,  0.28415,  \n",
    "                    0.5524 ,  0.23115,  0.20835, 0.4211,  0.60485])"
   ]
  },
  {
   "cell_type": "code",
   "execution_count": 4,
   "id": "c805427a",
   "metadata": {},
   "outputs": [],
   "source": [
    "X_test = np.linspace(-1, 1, 20)"
   ]
  },
  {
   "cell_type": "code",
   "execution_count": 5,
   "id": "671e97ee",
   "metadata": {},
   "outputs": [],
   "source": [
    "y_test = np.array([-0.69415, -0.451  , -0.43005, -0.4484 , -0.1475 ,\n",
    "                   -0.5019 , -0.28055,  0.24595, -0.21425, -0.0286 ,  \n",
    "                   0.23415,  0.46575, 0.07955,  0.1973 ,  0.0719 ,\n",
    "                   0.3639 ,  0.5536 ,  0.3365 , 0.50705,  0.33435])"
   ]
  },
  {
   "cell_type": "code",
   "execution_count": 6,
   "id": "c1d3addb",
   "metadata": {},
   "outputs": [
    {
     "data": {
      "image/png": "[encoded data removed]",
      "text/plain": [
       "<Figure size 432x288 with 1 Axes>"
      ]
     },
     "metadata": {
      "needs_background": "light"
     },
     "output_type": "display_data"
    }
   ],
   "source": [
    "plt.scatter(X_train, y_train, c='red', label='Train')\n",
    "plt.scatter(X_test, y_test, c='blue', label='Test')\n",
    "plt.legend()\n",
    "plt.show()"
   ]
  },
  {
   "cell_type": "markdown",
   "id": "0dbc4845",
   "metadata": {},
   "source": [
    "# Regression Model"
   ]
  },
  {
   "cell_type": "code",
   "execution_count": 7,
   "id": "10047836",
   "metadata": {},
   "outputs": [],
   "source": [
    "model_1 = Sequential()\n",
    "model_1.add(Dense(128, activation=\"relu\", input_dim=1))\n",
    "model_1.add(Dense(128, activation=\"relu\"))\n",
    "model_1.add(Dense(1, activation=\"linear\"))\n",
    "adam = Adam(learning_rate=0.01)\n",
    "model_1.compile(loss='mse', optimizer=adam, metrics=['mse'])\n",
    "history = model_1.fit(X_train, y_train, epochs=500, \n",
    "                    validation_data = (X_test, y_test),\n",
    "                    verbose=False)  ##verbose False means does not show processing step in op"
   ]
  },
  {
   "cell_type": "code",
   "execution_count": 8,
   "id": "9a3044ba",
   "metadata": {},
   "outputs": [
    {
     "name": "stdout",
     "output_type": "stream",
     "text": [
      "Train: 0.004392881412059069, Test: 0.046251870691776276\n"
     ]
    }
   ],
   "source": [
    "### evaluate the model\n",
    "# The evaluate function is typically used to assess the performance of a trained model by calculating\n",
    "# one or more metrics, such as accuracy, loss, or any other relevant metric defined during the model\n",
    "# compilation. The function compares the model's predictions on the training data with the true labels\n",
    "# and computes the specified metrics.\n",
    "_, train_mse = model_1.evaluate(X_train, y_train, verbose=0)   \n",
    "_, test_mse = model_1.evaluate(X_test, y_test, verbose=0)\n",
    "print('Train: {}, Test: {}'.format(train_mse, test_mse))\n",
    "\n",
    "# To clarify, the underscore _ is often used as a convention to represent a variable that is\n",
    "# intentionally ignored or not needed. In this case, the actual value returned by model_1.evaluate()\n",
    "# is not necessary for further use, so it is assigned to _. The MSE is the specific output of interest,\n",
    "# so it is assigned to the variable train_mse."
   ]
  },
  {
   "cell_type": "code",
   "execution_count": 9,
   "id": "c2b38499",
   "metadata": {},
   "outputs": [
    {
     "name": "stdout",
     "output_type": "stream",
     "text": [
      "1/1 [==============================] - 0s 110ms/step\n"
     ]
    }
   ],
   "source": [
    "y_pred_1 = model_1.predict(X_test)"
   ]
  },
  {
   "cell_type": "code",
   "execution_count": 10,
   "id": "b2538498",
   "metadata": {},
   "outputs": [
    {
     "data": {
      "image/png": "[encoded data removed]",
      "text/plain": [
       "<Figure size 432x288 with 1 Axes>"
      ]
     },
     "metadata": {
      "needs_background": "light"
     },
     "output_type": "display_data"
    }
   ],
   "source": [
    "plt.figure()\n",
    "plt.scatter(X_train, y_train, c='red', label='Train')\n",
    "plt.scatter(X_test, y_test, c='blue', label='Test')\n",
    "plt.plot(X_test, y_pred_1)\n",
    "plt.legend()\n",
    "plt.ylim((-1.5, 1.5))\n",
    "plt.show()"
   ]
  },
  {
   "cell_type": "markdown",
   "id": "35628eaf",
   "metadata": {},
   "source": [
    "# Dropout Model"
   ]
  },
  {
   "cell_type": "code",
   "execution_count": 11,
   "id": "3456ba61",
   "metadata": {},
   "outputs": [],
   "source": [
    "model_2 = Sequential()\n",
    "model_2.add(Dense(128, input_dim=1, activation=\"relu\"))\n",
    "model_2.add(Dropout(0.2))\n",
    "model_2.add(Dense(128, activation=\"relu\"))\n",
    "model_2.add(Dropout(0.2))\n",
    "model_2.add(Dense(1, activation=\"linear\"))\n",
    "adam = Adam(learning_rate=0.01)\n",
    "model_2.compile(loss='mse', optimizer=adam, metrics=['mse'])\n",
    "\n",
    "drop_out_history = model_2.fit(X_train, y_train, epochs=500, \n",
    "                               validation_data = (X_test, y_test),\n",
    "                               verbose=False)"
   ]
  },
  {
   "cell_type": "code",
   "execution_count": 12,
   "id": "41a0555e",
   "metadata": {},
   "outputs": [
    {
     "name": "stdout",
     "output_type": "stream",
     "text": [
      "Train: 0.009677422232925892, Test: 0.03957492113113403\n"
     ]
    }
   ],
   "source": [
    "# evaluate the model\n",
    "_, train_mse = model_2.evaluate(X_train, y_train, verbose=0)\n",
    "_, test_mse = model_2.evaluate(X_test, y_test, verbose=0)\n",
    "print('Train: {}, Test: {}'.format(train_mse, test_mse))"
   ]
  },
  {
   "cell_type": "code",
   "execution_count": 13,
   "id": "4c5d964a",
   "metadata": {},
   "outputs": [
    {
     "name": "stdout",
     "output_type": "stream",
     "text": [
      "1/1 [==============================] - 0s 65ms/step\n"
     ]
    }
   ],
   "source": [
    "y_pred_2 = model_2.predict(X_test)"
   ]
  },
  {
   "cell_type": "code",
   "execution_count": 14,
   "id": "d962e6e1",
   "metadata": {},
   "outputs": [
    {
     "data": {
      "image/png": "[encoded data removed]",
      "text/plain": [
       "<Figure size 432x288 with 1 Axes>"
      ]
     },
     "metadata": {
      "needs_background": "light"
     },
     "output_type": "display_data"
    }
   ],
   "source": [
    "plt.figure()\n",
    "plt.scatter(X_train, y_train, c='red', label='Train')\n",
    "plt.scatter(X_test, y_test, c='blue', label='Test')\n",
    "plt.plot(X_test, y_pred_2)\n",
    "plt.legend()\n",
    "plt.ylim((-1.5, 1.5))\n",
    "plt.show()"
   ]
  },
  {
   "cell_type": "code",
   "execution_count": null,
   "id": "6a9309b9",
   "metadata": {},
   "outputs": [],
   "source": []
  }
 ],
 "metadata": {
  "kernelspec": {
   "display_name": "Python 3 (ipykernel)",
   "language": "python",
   "name": "python3"
  },
  "language_info": {
   "codemirror_mode": {
    "name": "ipython",
    "version": 3
   },
   "file_extension": ".py",
   "mimetype": "text/x-python",
   "name": "python",
   "nbconvert_exporter": "python",
   "pygments_lexer": "ipython3",
   "version": "3.9.12"
  }
 },
 "nbformat": 4,
 "nbformat_minor": 5
}
